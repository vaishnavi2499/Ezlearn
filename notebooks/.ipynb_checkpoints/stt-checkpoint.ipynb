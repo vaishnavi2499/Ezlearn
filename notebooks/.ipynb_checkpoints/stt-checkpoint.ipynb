{
 "cells": [
  {
   "cell_type": "code",
   "execution_count": 3,
   "id": "6a9099e4-b245-4345-a022-2b07ea2b78fe",
   "metadata": {},
   "outputs": [
    {
     "name": "stderr",
     "output_type": "stream",
     "text": [
      "C:\\Users\\VAISHNAVI\\.conda\\envs\\myenv\\lib\\site-packages\\whisper\\__init__.py:150: FutureWarning: You are using `torch.load` with `weights_only=False` (the current default value), which uses the default pickle module implicitly. It is possible to construct malicious pickle data which will execute arbitrary code during unpickling (See https://github.com/pytorch/pytorch/blob/main/SECURITY.md#untrusted-models for more details). In a future release, the default value for `weights_only` will be flipped to `True`. This limits the functions that could be executed during unpickling. Arbitrary objects will no longer be allowed to be loaded via this mode unless they are explicitly allowlisted by the user via `torch.serialization.add_safe_globals`. We recommend you start setting `weights_only=True` for any use case where you don't have full control of the loaded file. Please open an issue on GitHub for any issues related to this experimental feature.\n",
      "  checkpoint = torch.load(fp, map_location=device)\n"
     ]
    },
    {
     "name": "stdout",
     "output_type": "stream",
     "text": [
      "Model saved at ..\\saved_models\\whisper_model.pth\n"
     ]
    }
   ],
   "source": [
    "import torch\n",
    "import whisper\n",
    "import os\n",
    "\n",
    "# Load the Whisper model\n",
    "model = whisper.load_model(\"small\")  # or \"small\", \"medium\", \"large\" depending on your requirements\n",
    "\n",
    "# Example of training or fine-tuning code can be added here if needed\n",
    "\n",
    "# Save the model to the saved_models directory\n",
    "saved_model_path = os.path.join(\"..\", \"saved_models\", \"whisper_model.pth\")  # Adjust the path as necessary\n",
    "torch.save(model, saved_model_path)\n",
    "\n",
    "print(f\"Model saved at {saved_model_path}\")\n"
   ]
  },
  {
   "cell_type": "code",
   "execution_count": null,
   "id": "ea214e24-75ef-4b73-b1f6-52dbbcc24d3d",
   "metadata": {},
   "outputs": [],
   "source": []
  }
 ],
 "metadata": {
  "kernelspec": {
   "display_name": "Python 3.10 (myenv)",
   "language": "python",
   "name": "myenv"
  },
  "language_info": {
   "codemirror_mode": {
    "name": "ipython",
    "version": 3
   },
   "file_extension": ".py",
   "mimetype": "text/x-python",
   "name": "python",
   "nbconvert_exporter": "python",
   "pygments_lexer": "ipython3",
   "version": "3.10.15"
  }
 },
 "nbformat": 4,
 "nbformat_minor": 5
}
